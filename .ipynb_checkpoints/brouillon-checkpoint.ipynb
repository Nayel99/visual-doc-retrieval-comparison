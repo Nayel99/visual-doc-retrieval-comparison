{
 "cells": [
  {
   "cell_type": "code",
   "execution_count": 1,
   "id": "4d9936ea-ad53-4b35-8b6c-67eb568ee921",
   "metadata": {},
   "outputs": [],
   "source": [
    "from datasets import load_dataset"
   ]
  },
  {
   "cell_type": "code",
   "execution_count": null,
   "id": "c3fc6cf4-0b5a-4d5e-b42b-f1714abd61ad",
   "metadata": {},
   "outputs": [],
   "source": [
    "dataset = load_dataset(\"https://huggingface.co/datasets/vidore/infovqa_test_subsampled\")"
   ]
  }
 ],
 "metadata": {
  "kernelspec": {
   "display_name": "Python 3 (ipykernel)",
   "language": "python",
   "name": "python3"
  },
  "language_info": {
   "codemirror_mode": {
    "name": "ipython",
    "version": 3
   },
   "file_extension": ".py",
   "mimetype": "text/x-python",
   "name": "python",
   "nbconvert_exporter": "python",
   "pygments_lexer": "ipython3",
   "version": "3.10.13"
  }
 },
 "nbformat": 4,
 "nbformat_minor": 5
}
